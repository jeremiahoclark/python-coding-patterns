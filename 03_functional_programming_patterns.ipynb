{
  "cells": [
    {
      "cell_type": "markdown",
      "metadata": {
        "id": "view-in-github",
        "colab_type": "text"
      },
      "source": [
        "<a href=\"https://colab.research.google.com/github/jeremiahoclark/python-coding-patterns/blob/main/03_functional_programming_patterns.ipynb\" target=\"_parent\"><img src=\"https://colab.research.google.com/assets/colab-badge.svg\" alt=\"Open In Colab\"/></a>"
      ]
    },
    {
      "cell_type": "markdown",
      "metadata": {
        "id": "D6kPQHiKRI7B"
      },
      "source": [
        "# 3. Functional Programming Patterns\n",
        "\n",
        "Functional programming (FP) emphasizes immutable data and pure functions (no side effects), treating functions as first-class citizens (pass them around like data). Python is multi-paradigm: not a pure functional language, but it supports many FP patterns. Using these can lead to concise and expressive code, especially for data transformations or when concurrency needs immutability.\n",
        "\n",
        "In this section, we explore patterns such as higher-order functions, closures, immutability, and functional pipelines in Python."
      ]
    },
    {
      "cell_type": "markdown",
      "metadata": {
        "id": "dBE8dsNvRI7C"
      },
      "source": [
        "## 3.1 Higher-Order Functions and Lambdas\n",
        "\n",
        "**Pattern Profile:**\n",
        "\n",
        "- **Name:** Higher-Order Functions (HOF) & Lambda Use\n",
        "- **Category:** Functional Pattern\n",
        "- **Difficulty:** Beginner\n",
        "- **Python Version:** All\n",
        "- **Dependencies:** None (built-ins like `map`, `filter` optional)\n",
        "\n",
        "**Problem Statement:** A higher-order function is one that either takes functions as arguments or returns a function. This pattern enables abstraction over behavior. In Python, functions are first-class, meaning you can pass them around like any object. Common built-in HOFs include `map`, `filter`, `sorted(key=...)`, etc. Lambdas (anonymous functions) often come into play to define simple throwaway functions inline.\n",
        "\n",
        "**Solution Approach:** Embrace passing functions to functions. Instead of, say, writing separate loops for different behaviors, write a generic function that can accept different function arguments to customize behavior. Use lambdas for small, one-off function definitions to keep code succinct."
      ]
    },
    {
      "cell_type": "code",
      "execution_count": null,
      "metadata": {
        "id": "2lXqMH-2RI7C"
      },
      "outputs": [],
      "source": [
        "# Higher-order function example: a generic apply_twice\n",
        "def apply_twice(func, value):\n",
        "    \"\"\"Applies a function to a value twice in a row.\"\"\"\n",
        "    return func(func(value))\n",
        "\n",
        "# Using apply_twice with a named function\n",
        "def add_five(x):\n",
        "    return x + 5\n",
        "\n",
        "result1 = apply_twice(add_five, 10)  # adds 5 twice -> 20\n",
        "print(\"apply_twice add_five:\", result1)\n",
        "\n",
        "# Using apply_twice with a lambda function\n",
        "result2 = apply_twice(lambda x: x * 2, 3)  # double twice -> 12\n",
        "print(\"apply_twice lambda x*2:\", result2)\n",
        "\n",
        "# Using built-in HOF: sorted with a key function (another form of strategy)\n",
        "names = [\"alice\", \"Bob\", \"dave\", \"Carol\"]\n",
        "sorted_case_insensitive = sorted(names, key=lambda s: s.lower())\n",
        "print(\"Sorted case-insensitive:\", sorted_case_insensitive)\n",
        "\n",
        "# Using map and filter\n",
        "nums = [1, 2, 3, 4, 5]\n",
        "squares = list(map(lambda x: x*x, nums))\n",
        "evens = list(filter(lambda x: x % 2 == 0, nums))\n",
        "print(\"Squares via map:\", squares)\n",
        "print(\"Evens via filter:\", evens)"
      ]
    },
    {
      "cell_type": "markdown",
      "metadata": {
        "id": "cdnD-W3uRI7D"
      },
      "source": [
        "**Pros and Cons:**\n",
        "\n",
        "- *Pros:* HOFs allow very abstract and reusable code. Combined with lambdas, they can eliminate boilerplate for simple operations (no need to define a one-use function with `def` if a lambda will do). It encourages thinking in terms of *what* operation to perform, not *how* to loop.\n",
        "- *Cons:* Overuse of lambdas or point-free style can make code less readable to those unfamiliar with FP idioms. Debugging is slightly harder when logic is in anonymous functions (no name to reference, harder to print or inspect). Also, Python's lambda is limited to an expression (no statements), so sometimes you need a regular function anyway.\n",
        "\n",
        "**Practice Exercises:**"
      ]
    },
    {
      "cell_type": "code",
      "execution_count": null,
      "metadata": {
        "id": "XIqjUyi5RI7D"
      },
      "outputs": [],
      "source": [
        "# Exercise 1: Write a compose function\n",
        "def compose(f, g):\n",
        "    \"\"\"Returns a function h such that h(x) = f(g(x))\"\"\"\n",
        "    return lambda x: f(g(x))\n",
        "\n",
        "# Test the compose function\n",
        "add_one = lambda x: x + 1\n",
        "double = lambda x: x * 2\n",
        "\n",
        "# Create a composed function: add_one(double(x))\n",
        "add_one_then_double = compose(add_one, double)\n",
        "print(\"compose(add_one, double)(5):\", add_one_then_double(5))  # (5*2)+1 = 11\n",
        "\n",
        "# Exercise 2: Function composition pipeline\n",
        "def apply_functions(value, *functions):\n",
        "    \"\"\"Apply a series of functions to a value in sequence\"\"\"\n",
        "    result = value\n",
        "    for func in functions:\n",
        "        result = func(result)\n",
        "    return result\n",
        "\n",
        "# Test the pipeline\n",
        "result = apply_functions(5, double, add_one, lambda x: x ** 2)\n",
        "print(\"Pipeline result:\", result)  # ((5*2)+1)^2 = 11^2 = 121"
      ]
    },
    {
      "cell_type": "markdown",
      "metadata": {
        "id": "XM7qpRarRI7D"
      },
      "source": [
        "## 3.2 Immutability and Pure Functions\n",
        "\n",
        "**Pattern Profile:**\n",
        "\n",
        "- **Name:** Immutability & Pure Function Pattern\n",
        "- **Category:** Functional Paradigm\n",
        "- **Difficulty:** Intermediate\n",
        "- **Python Version:** All (dataclasses from 3.7 for convenience)\n",
        "- **Dependencies:** `dataclasses` or `typing.NamedTuple` for convenience (optional)\n",
        "\n",
        "**Problem Statement:** Functional programming tends to avoid mutable state and side effects, which leads to *pure functions* (output depends only on input, no external state changes). In Python, many objects are mutable (lists, dicts, etc.), but we can choose patterns of usage that treat data as immutable, especially when it leads to clearer or safer code (e.g., no accidental modifications).\n",
        "\n",
        "**Solution Approach:**\n",
        "\n",
        "- Use tuples or namedtuples/dataclasses with `frozen=True` to represent data that shouldn't change.\n",
        "- Write functions that return new objects instead of modifying in-place.\n",
        "- Avoid global variables or reliance on external state within functions.\n",
        "- Use recursion or iterative constructs that produce new values rather than updating existing ones."
      ]
    },
    {
      "cell_type": "code",
      "execution_count": null,
      "metadata": {
        "id": "kka3uJTaRI7D"
      },
      "outputs": [],
      "source": [
        "from dataclasses import dataclass\n",
        "from typing import NamedTuple\n",
        "\n",
        "# Using dataclass as an immutable (frozen) structure\n",
        "@dataclass(frozen=True)\n",
        "class Point:\n",
        "    x: float\n",
        "    y: float\n",
        "\n",
        "def move_point(p: Point, dx: float, dy: float) -> Point:\n",
        "    \"\"\"Pure function: returns a new Point, doesn't modify input\"\"\"\n",
        "    return Point(p.x + dx, p.y + dy)\n",
        "\n",
        "p1 = Point(0, 0)\n",
        "p2 = move_point(p1, 5, 3)\n",
        "print(\"Original point:\", p1, \"| Moved point:\", p2)\n",
        "\n",
        "# Alternative using NamedTuple (inherently immutable)\n",
        "class Vector(NamedTuple):\n",
        "    x: float\n",
        "    y: float\n",
        "\n",
        "    def add(self, other: 'Vector') -> 'Vector':\n",
        "        \"\"\"Pure method: returns new Vector\"\"\"\n",
        "        return Vector(self.x + other.x, self.y + other.y)\n",
        "\n",
        "v1 = Vector(1, 2)\n",
        "v2 = Vector(3, 4)\n",
        "v3 = v1.add(v2)\n",
        "print(f\"Vector addition: {v1} + {v2} = {v3}\")"
      ]
    },
    {
      "cell_type": "code",
      "execution_count": null,
      "metadata": {
        "id": "qa45LOYJRI7D"
      },
      "outputs": [],
      "source": [
        "# Demonstrating tuple vs list immutability\n",
        "def append_immutable(seq, item):\n",
        "    \"\"\"Returns a new sequence with item appended (pure function)\"\"\"\n",
        "    if isinstance(seq, tuple):\n",
        "        return (*seq, item)  # concatenating tuples creates a new tuple\n",
        "    elif isinstance(seq, list):\n",
        "        return seq + [item]  # returns new list (note: + on list creates new list)\n",
        "    else:\n",
        "        raise TypeError(\"Unsupported type\")\n",
        "\n",
        "orig_list = [1, 2, 3]\n",
        "new_list = append_immutable(orig_list, 4)\n",
        "print(\"Original list:\", orig_list, \"| New list:\", new_list)\n",
        "\n",
        "orig_tuple = (1, 2, 3)\n",
        "new_tuple = append_immutable(orig_tuple, 4)\n",
        "print(\"Original tuple:\", orig_tuple, \"| New tuple:\", new_tuple)\n",
        "\n",
        "# Immutable dictionary operations\n",
        "def add_to_dict(d: dict, key, value) -> dict:\n",
        "    \"\"\"Returns new dictionary with key-value pair added\"\"\"\n",
        "    return {**d, key: value}  # Creates new dict\n",
        "\n",
        "orig_dict = {'a': 1, 'b': 2}\n",
        "new_dict = add_to_dict(orig_dict, 'c', 3)\n",
        "print(\"Original dict:\", orig_dict, \"| New dict:\", new_dict)"
      ]
    },
    {
      "cell_type": "markdown",
      "metadata": {
        "id": "XwGHtpFQRI7D"
      },
      "source": [
        "**Practice Exercises:**"
      ]
    },
    {
      "cell_type": "code",
      "execution_count": null,
      "metadata": {
        "id": "mB0QnFU9RI7D"
      },
      "outputs": [],
      "source": [
        "# Exercise: Immutable Stack implementation\n",
        "class ImmutableStack:\n",
        "    def __init__(self, items=()):\n",
        "        self._items = tuple(items)\n",
        "\n",
        "    def push(self, item):\n",
        "        \"\"\"Returns new stack with item pushed\"\"\"\n",
        "        return ImmutableStack((*self._items, item))\n",
        "\n",
        "    def pop(self):\n",
        "        \"\"\"Returns (new_stack, popped_item) or raises if empty\"\"\"\n",
        "        if not self._items:\n",
        "            raise IndexError(\"Stack is empty\")\n",
        "        return ImmutableStack(self._items[:-1]), self._items[-1]\n",
        "\n",
        "    def peek(self):\n",
        "        \"\"\"Returns top item without modifying stack\"\"\"\n",
        "        if not self._items:\n",
        "            raise IndexError(\"Stack is empty\")\n",
        "        return self._items[-1]\n",
        "\n",
        "    def is_empty(self):\n",
        "        return len(self._items) == 0\n",
        "\n",
        "    def __repr__(self):\n",
        "        return f\"ImmutableStack({list(self._items)})\"\n",
        "\n",
        "# Test the immutable stack\n",
        "stack1 = ImmutableStack()\n",
        "stack2 = stack1.push(1)\n",
        "stack3 = stack2.push(2).push(3)\n",
        "\n",
        "print(\"Original stack:\", stack1)\n",
        "print(\"After push(1):\", stack2)\n",
        "print(\"After push(2).push(3):\", stack3)\n",
        "\n",
        "stack4, popped = stack3.pop()\n",
        "print(\"After pop():\", stack4, \"| Popped:\", popped)\n",
        "print(\"Original stack3 unchanged:\", stack3)"
      ]
    },
    {
      "cell_type": "markdown",
      "metadata": {
        "id": "0cSqCLrtRI7E"
      },
      "source": [
        "## 3.3 Functional Pipelines and Composition\n",
        "\n",
        "**Pattern Profile:**\n",
        "\n",
        "- **Name:** Functional Pipeline (Chaining transformations)\n",
        "- **Category:** Functional Pattern\n",
        "- **Difficulty:** Intermediate\n",
        "- **Python Version:** All\n",
        "- **Dependencies:** itertools for some examples (optional)\n",
        "\n",
        "**Problem Statement:** A common pattern is to apply a series of transformations to data. In functional style, this often appears as a pipeline of functions where the output of one is the input to the next. Python doesn't have a built-in operator for function composition or piping, but one can achieve readable pipelines using nested function calls, generator pipelines, or by utilizing libraries.\n",
        "\n",
        "**Solution Approach:**\n",
        "\n",
        "- **Nested calls / composition:** `result = f3(f2(f1(data)))`\n",
        "- **Using generator pipeline:** break steps into generator functions that yield intermediate results\n",
        "- **Method chaining with custom classes:** implement classes whose methods return self or new instance\n",
        "- **Third-party or functools:** e.g., `functools.reduce` could combine functions"
      ]
    },
    {
      "cell_type": "code",
      "execution_count": null,
      "metadata": {
        "id": "zBO9n_R-RI7E"
      },
      "outputs": [],
      "source": [
        "import math\n",
        "from functools import reduce\n",
        "\n",
        "# Define some simple transformations\n",
        "def double(x): return x*2\n",
        "def square(x): return x*x\n",
        "def minus_one(x): return x-1\n",
        "\n",
        "# Pipeline via nested function calls:\n",
        "num = 3\n",
        "result = minus_one(square(double(num)))  # double -> square -> minus_one\n",
        "print(\"Pipeline nested result:\", result)\n",
        "\n",
        "# Function composition utility (returns a new function that is comp of f and g)\n",
        "def compose(f, g):\n",
        "    return lambda *args, **kwargs: f(g(*args, **kwargs))\n",
        "\n",
        "# Compose multiple functions (right to left)\n",
        "pipeline_func = reduce(lambda f, g: compose(f, g), [minus_one, square, double])\n",
        "print(\"Pipeline via compose:\", pipeline_func(3))\n",
        "\n",
        "# Alternative: left-to-right composition\n",
        "def pipe(*functions):\n",
        "    \"\"\"Creates a pipeline function that applies functions left to right\"\"\"\n",
        "    return lambda x: reduce(lambda acc, f: f(acc), functions, x)\n",
        "\n",
        "# Create pipeline: double -> square -> minus_one\n",
        "pipeline = pipe(double, square, minus_one)\n",
        "print(\"Left-to-right pipeline:\", pipeline(3))"
      ]
    },
    {
      "cell_type": "code",
      "execution_count": null,
      "metadata": {
        "id": "uyuOuXmJRI7E"
      },
      "outputs": [],
      "source": [
        "# Generator pipeline example: generate some numbers, then apply pipeline lazily\n",
        "def nums(start, end):\n",
        "    for i in range(start, end):\n",
        "        yield i\n",
        "\n",
        "def pipeline_gen(iterable):\n",
        "    for x in iterable:\n",
        "        y = double(x)\n",
        "        y = square(y)\n",
        "        y = minus_one(y)\n",
        "        yield y\n",
        "\n",
        "print(\"Pipeline via generator:\", list(pipeline_gen(nums(1, 5))))\n",
        "\n",
        "# More functional generator pipeline using map\n",
        "def functional_pipeline(iterable):\n",
        "    \"\"\"Chain transformations using map for a functional approach\"\"\"\n",
        "    step1 = map(double, iterable)\n",
        "    step2 = map(square, step1)\n",
        "    step3 = map(minus_one, step2)\n",
        "    return step3\n",
        "\n",
        "print(\"Functional generator pipeline:\", list(functional_pipeline(range(1, 5))))"
      ]
    },
    {
      "cell_type": "code",
      "execution_count": null,
      "metadata": {
        "id": "rMZfRfK7RI7E"
      },
      "outputs": [],
      "source": [
        "# Method chaining example (like pandas)\n",
        "class StringProcessor:\n",
        "    def __init__(self, text: str):\n",
        "        self.text = text\n",
        "\n",
        "    def to_lower(self):\n",
        "        self.text = self.text.lower()\n",
        "        return self  # return self to allow chaining\n",
        "\n",
        "    def remove_punct(self):\n",
        "        self.text = \"\".join(ch for ch in self.text if ch.isalnum() or ch.isspace())\n",
        "        return self\n",
        "\n",
        "    def trim(self):\n",
        "        self.text = self.text.strip()\n",
        "        return self\n",
        "\n",
        "    def replace_spaces(self, replacement=\"_\"):\n",
        "        self.text = self.text.replace(\" \", replacement)\n",
        "        return self\n",
        "\n",
        "proc = StringProcessor(\"  Hello, World!! \")\n",
        "result_text = proc.to_lower().remove_punct().trim().replace_spaces().text\n",
        "print(\"Chained methods result:\", result_text)\n",
        "\n",
        "# Immutable version (returns new instances)\n",
        "class ImmutableStringProcessor:\n",
        "    def __init__(self, text: str):\n",
        "        self.text = text\n",
        "\n",
        "    def to_lower(self):\n",
        "        return ImmutableStringProcessor(self.text.lower())\n",
        "\n",
        "    def remove_punct(self):\n",
        "        clean_text = \"\".join(ch for ch in self.text if ch.isalnum() or ch.isspace())\n",
        "        return ImmutableStringProcessor(clean_text)\n",
        "\n",
        "    def trim(self):\n",
        "        return ImmutableStringProcessor(self.text.strip())\n",
        "\n",
        "    def __repr__(self):\n",
        "        return f\"ImmutableStringProcessor('{self.text}')\"\n",
        "\n",
        "original = ImmutableStringProcessor(\"  Hello, World!! \")\n",
        "processed = original.to_lower().remove_punct().trim()\n",
        "print(\"Original:\", original)\n",
        "print(\"Processed:\", processed)"
      ]
    },
    {
      "cell_type": "markdown",
      "metadata": {
        "id": "ySlLvArLRI7E"
      },
      "source": [
        "**Practice Exercises:**"
      ]
    },
    {
      "cell_type": "code",
      "execution_count": null,
      "metadata": {
        "id": "o9NlUEkPRI7E"
      },
      "outputs": [],
      "source": [
        "# Exercise: Data processing pipeline\n",
        "from itertools import accumulate\n",
        "\n",
        "# Create a pipeline for processing numerical data\n",
        "def process_numbers(numbers):\n",
        "    \"\"\"Pipeline: filter evens -> square -> running sum\"\"\"\n",
        "    evens = filter(lambda x: x % 2 == 0, numbers)\n",
        "    squared = map(lambda x: x ** 2, evens)\n",
        "    running_sums = accumulate(squared)\n",
        "    return list(running_sums)\n",
        "\n",
        "data = [1, 2, 3, 4, 5, 6, 7, 8, 9, 10]\n",
        "result = process_numbers(data)\n",
        "print(\"Processed numbers:\", result)\n",
        "\n",
        "# Exercise: Create a generic pipeline utility\n",
        "class Pipeline:\n",
        "    def __init__(self, data):\n",
        "        self.data = data\n",
        "\n",
        "    def filter(self, predicate):\n",
        "        return Pipeline(filter(predicate, self.data))\n",
        "\n",
        "    def map(self, func):\n",
        "        return Pipeline(map(func, self.data))\n",
        "\n",
        "    def reduce(self, func, initial=None):\n",
        "        if initial is None:\n",
        "            return reduce(func, self.data)\n",
        "        return reduce(func, self.data, initial)\n",
        "\n",
        "    def collect(self):\n",
        "        return list(self.data)\n",
        "\n",
        "# Use the pipeline\n",
        "result = (Pipeline(range(1, 11))\n",
        "         .filter(lambda x: x % 2 == 0)\n",
        "         .map(lambda x: x ** 2)\n",
        "         .collect())\n",
        "\n",
        "print(\"Pipeline result:\", result)\n",
        "\n",
        "# Sum using reduce\n",
        "total = (Pipeline(range(1, 11))\n",
        "        .filter(lambda x: x % 2 == 0)\n",
        "        .map(lambda x: x ** 2)\n",
        "        .reduce(lambda a, b: a + b, 0))\n",
        "\n",
        "print(\"Pipeline sum:\", total)"
      ]
    },
    {
      "cell_type": "markdown",
      "metadata": {
        "id": "ULvjXu8aRI7E"
      },
      "source": [
        "## Summary\n",
        "\n",
        "Functional programming patterns in Python provide powerful tools for writing clean, maintainable code:\n",
        "\n",
        "1. **Higher-Order Functions and Lambdas**: Enable abstraction over behavior and concise function definitions\n",
        "2. **Immutability and Pure Functions**: Reduce bugs and make code easier to reason about\n",
        "3. **Functional Pipelines**: Create clear data transformation workflows\n",
        "\n",
        "While Python isn't a purely functional language, incorporating these patterns can lead to more robust and expressive code, especially in data processing, concurrent programming, and mathematical computations.\n",
        "\n",
        "**Key Takeaways:**\n",
        "- Use functions as first-class objects to create flexible, reusable code\n",
        "- Prefer immutable data structures when possible to avoid side effects\n",
        "- Chain operations into pipelines for clear data transformation workflows\n",
        "- Balance functional patterns with Python's pragmatic approach for optimal readability"
      ]
    }
  ],
  "metadata": {
    "kernelspec": {
      "display_name": "Python 3",
      "language": "python",
      "name": "python3"
    },
    "language_info": {
      "codemirror_mode": {
        "name": "ipython",
        "version": 3
      },
      "file_extension": ".py",
      "mimetype": "text/x-python",
      "name": "python",
      "nbconvert_exporter": "python",
      "pygments_lexer": "ipython3",
      "version": "3.8.5"
    },
    "colab": {
      "provenance": [],
      "include_colab_link": true
    }
  },
  "nbformat": 4,
  "nbformat_minor": 0
}